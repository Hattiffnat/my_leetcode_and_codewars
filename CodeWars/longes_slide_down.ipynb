{
 "cells": [
  {
   "cell_type": "code",
   "execution_count": 1,
   "id": "e45ce415-b325-4a91-9ed9-4b694782bf45",
   "metadata": {},
   "outputs": [],
   "source": [
    "import copy\n",
    "import numpy as np"
   ]
  },
  {
   "cell_type": "code",
   "execution_count": 2,
   "id": "dff78607-5baf-4bfc-b0ff-c6e8ad0281be",
   "metadata": {},
   "outputs": [],
   "source": [
    "def add_indexes(x, addable):\n",
    "    # print(x)\n",
    "    # print(addable)\n",
    "    for i in range(len(x)):\n",
    "        x[i] += addable[i]"
   ]
  },
  {
   "cell_type": "code",
   "execution_count": 3,
   "id": "4e99d792-3c72-488a-9cc0-51c86c5fa909",
   "metadata": {},
   "outputs": [],
   "source": [
    "def cycle_1(pyramid, indexes):\n",
    "    slides = []\n",
    "    get_slides(indexes, slides)\n",
    "    \n",
    "    if slides:\n",
    "        return [[pyramid[i][s[i]] for i in range(len(s))] for s in slides]\n",
    "    else:\n",
    "        return None"
   ]
  },
  {
   "cell_type": "code",
   "execution_count": 4,
   "id": "1664afb2-c4c8-499c-b958-4705a0762e52",
   "metadata": {},
   "outputs": [],
   "source": [
    "def get_slides(indexes, slides, n=0, s=[0]):\n",
    "    for j in indexes[n+1]:\n",
    "        s = s[:n+1]\n",
    "        if j == s[-1] or j == s[-1]+1:\n",
    "            s.append(j)\n",
    "\n",
    "            if len(s) == len(indexes):\n",
    "                slides.append(s.copy())\n",
    "\n",
    "            elif n+1 < len(indexes)-1:\n",
    "                get_slides(indexes, slides, n+1, s.copy())"
   ]
  },
  {
   "cell_type": "code",
   "execution_count": 5,
   "id": "e7da60af-322e-462e-8996-ceb0d576ee37",
   "metadata": {},
   "outputs": [],
   "source": [
    "def get_new_indexes(pile):\n",
    "    \n",
    "    new_indexes = [list() for i in range(len(pile))]\n",
    "    # Cycle by layers of pile\n",
    "    for l_index in range(len(pile)):\n",
    "        \n",
    "        mx = None        # Max value in layer\n",
    "        maxes = []       # Indexes of max value (there may be several)\n",
    "        \n",
    "        # Cycle by items in layer\n",
    "        for i_index in range(len(pile[l_index])):\n",
    "            \n",
    "            num = pile[l_index][i_index] # Value of item\n",
    "            \n",
    "            # If value of item not None, and max value is None or less than Item\n",
    "            if num is not None:\n",
    "                if mx is None or mx < num:\n",
    "                    mx = num\n",
    "                    maxes = [i_index]\n",
    "                elif mx == num:\n",
    "                    maxes.append(i_index)\n",
    "        \n",
    "        for i in maxes:\n",
    "            pile[l_index][i] = None\n",
    "        new_indexes[l_index] += maxes\n",
    "    \n",
    "        \n",
    "    return new_indexes"
   ]
  },
  {
   "cell_type": "code",
   "execution_count": 13,
   "id": "e044d672-2b43-4bc3-a227-5893de017836",
   "metadata": {},
   "outputs": [],
   "source": [
    "def longest_slide_down(pyramid):\n",
    "    pile = copy.deepcopy(pyramid)\n",
    "    indexes = [list() for i in range(len(pile))]\n",
    "    \n",
    "    chains = None\n",
    "    while not chains:\n",
    "        new_indexes = get_new_indexes(pile)\n",
    "        \n",
    "        if new_indexes:\n",
    "            add_indexes(indexes, new_indexes)\n",
    "            \n",
    "            ### DEBUG\n",
    "            if indexes[9].count(5) == 0: indexes[9].append(5)\n",
    "            ### DEBUG\n",
    "            \n",
    "            chains = cycle_1(pyramid, indexes)\n",
    "    \n",
    "    for i in chains: print(np.array(i), sum(i))\n",
    "    return max([sum(i) for i in chains])\n",
    "    "
   ]
  },
  {
   "cell_type": "code",
   "execution_count": 7,
   "id": "ad15e1f4-a78d-4c9c-af85-2a63225c1166",
   "metadata": {},
   "outputs": [],
   "source": [
    "pyra = [\n",
    "    [75],\n",
    "    [95, 64],\n",
    "    [17, 47, 82],\n",
    "    [18, 35, 87, 10],\n",
    "    [20,  4, 82, 47, 65],\n",
    "    [19,  1, 23, 75,  3, 34],\n",
    "    [88,  2, 77, 73,  7, 63, 67],\n",
    "    [99, 65,  4, 28,  6, 16, 70, 92],\n",
    "    [41, 41, 26, 56, 83, 40, 80, 70, 33],\n",
    "    [41, 48, 72, 33, 47, 32, 37, 16, 94, 29],\n",
    "    [53, 71, 44, 65, 25, 43, 91, 52, 97, 51, 14],\n",
    "    [70, 11, 33, 28, 77, 73, 17, 78, 39, 68, 17, 57],\n",
    "    [91, 71, 52, 38, 17, 14, 91, 43, 58, 50, 27, 29, 48],\n",
    "    [63, 66,  4, 68, 89, 53, 67, 30, 73, 16, 69, 87, 40, 31],\n",
    "    [ 4, 62, 98, 27, 23,  9, 70, 98, 73, 93, 38, 53, 60,  4, 23],\n",
    "]\n",
    "\n",
    "# pyra = [\n",
    "#     [3],\n",
    "#     [7, 4],\n",
    "#     [2, 4, 6],\n",
    "#     [8, 5, 9, 3]\n",
    "# ]"
   ]
  },
  {
   "cell_type": "code",
   "execution_count": 14,
   "id": "96ce046c-5616-449d-bbc3-f562285a4d9c",
   "metadata": {
    "scrolled": true,
    "tags": []
   },
   "outputs": [
    {
     "name": "stdout",
     "output_type": "stream",
     "text": [
      "[75 95 47 87 82 75 73 28 83 32 91 78 58 73 93] 1070\n",
      "[75 95 47 87 82 75 73 28 83 32 91 78 58 73 73] 1050\n",
      "[75 95 47 87 82 23 77 28 83 32 91 78 58 73 93] 1022\n",
      "[75 95 47 87 82 23 77 28 83 32 91 78 58 73 73] 1002\n",
      "[75 95 47 87 82 23 73 28 83 32 91 78 58 73 93] 1018\n",
      "[75 95 47 87 82 23 73 28 83 32 91 78 58 73 73] 998\n",
      "[75 95 47 87 47 75 73 28 83 32 91 78 58 73 93] 1035\n",
      "[75 95 47 87 47 75 73 28 83 32 91 78 58 73 73] 1015\n",
      "[75 95 47 35 82 75 73 28 83 32 91 78 58 73 93] 1018\n",
      "[75 95 47 35 82 75 73 28 83 32 91 78 58 73 73] 998\n",
      "[75 95 47 35 82 23 77 28 83 32 91 78 58 73 93] 970\n",
      "[75 95 47 35 82 23 77 28 83 32 91 78 58 73 73] 950\n",
      "[75 95 47 35 82 23 73 28 83 32 91 78 58 73 93] 966\n",
      "[75 95 47 35 82 23 73 28 83 32 91 78 58 73 73] 946\n",
      "[75 95 47 35  4 23 77 28 83 32 91 78 58 73 93] 892\n",
      "[75 95 47 35  4 23 77 28 83 32 91 78 58 73 73] 872\n",
      "[75 95 47 35  4 23 73 28 83 32 91 78 58 73 93] 888\n",
      "[75 95 47 35  4 23 73 28 83 32 91 78 58 73 73] 868\n",
      "[75 95 17 35 82 75 73 28 83 32 91 78 58 73 93] 988\n",
      "[75 95 17 35 82 75 73 28 83 32 91 78 58 73 73] 968\n",
      "[75 95 17 35 82 23 77 28 83 32 91 78 58 73 93] 940\n",
      "[75 95 17 35 82 23 77 28 83 32 91 78 58 73 73] 920\n",
      "[75 95 17 35 82 23 73 28 83 32 91 78 58 73 93] 936\n",
      "[75 95 17 35 82 23 73 28 83 32 91 78 58 73 73] 916\n",
      "[75 95 17 35  4 23 77 28 83 32 91 78 58 73 93] 862\n",
      "[75 95 17 35  4 23 77 28 83 32 91 78 58 73 73] 842\n",
      "[75 95 17 35  4 23 73 28 83 32 91 78 58 73 93] 858\n",
      "[75 95 17 35  4 23 73 28 83 32 91 78 58 73 73] 838\n",
      "[75 95 17 18  4 23 77 28 83 32 91 78 58 73 93] 845\n",
      "[75 95 17 18  4 23 77 28 83 32 91 78 58 73 73] 825\n",
      "[75 95 17 18  4 23 73 28 83 32 91 78 58 73 93] 841\n",
      "[75 95 17 18  4 23 73 28 83 32 91 78 58 73 73] 821\n",
      "[75 64 82 87 82 75 73 28 83 32 91 78 58 73 93] 1074\n",
      "[75 64 82 87 82 75 73 28 83 32 91 78 58 73 73] 1054\n",
      "[75 64 82 87 82 23 77 28 83 32 91 78 58 73 93] 1026\n",
      "[75 64 82 87 82 23 77 28 83 32 91 78 58 73 73] 1006\n",
      "[75 64 82 87 82 23 73 28 83 32 91 78 58 73 93] 1022\n",
      "[75 64 82 87 82 23 73 28 83 32 91 78 58 73 73] 1002\n",
      "[75 64 82 87 47 75 73 28 83 32 91 78 58 73 93] 1039\n",
      "[75 64 82 87 47 75 73 28 83 32 91 78 58 73 73] 1019\n",
      "[75 64 82 10 47 75 73 28 83 32 91 78 58 73 93] 962\n",
      "[75 64 82 10 47 75 73 28 83 32 91 78 58 73 73] 942\n",
      "[75 64 47 87 82 75 73 28 83 32 91 78 58 73 93] 1039\n",
      "[75 64 47 87 82 75 73 28 83 32 91 78 58 73 73] 1019\n",
      "[75 64 47 87 82 23 77 28 83 32 91 78 58 73 93] 991\n",
      "[75 64 47 87 82 23 77 28 83 32 91 78 58 73 73] 971\n",
      "[75 64 47 87 82 23 73 28 83 32 91 78 58 73 93] 987\n",
      "[75 64 47 87 82 23 73 28 83 32 91 78 58 73 73] 967\n",
      "[75 64 47 87 47 75 73 28 83 32 91 78 58 73 93] 1004\n",
      "[75 64 47 87 47 75 73 28 83 32 91 78 58 73 73] 984\n",
      "[75 64 47 35 82 75 73 28 83 32 91 78 58 73 93] 987\n",
      "[75 64 47 35 82 75 73 28 83 32 91 78 58 73 73] 967\n",
      "[75 64 47 35 82 23 77 28 83 32 91 78 58 73 93] 939\n",
      "[75 64 47 35 82 23 77 28 83 32 91 78 58 73 73] 919\n",
      "[75 64 47 35 82 23 73 28 83 32 91 78 58 73 93] 935\n",
      "[75 64 47 35 82 23 73 28 83 32 91 78 58 73 73] 915\n",
      "[75 64 47 35  4 23 77 28 83 32 91 78 58 73 93] 861\n",
      "[75 64 47 35  4 23 77 28 83 32 91 78 58 73 73] 841\n",
      "[75 64 47 35  4 23 73 28 83 32 91 78 58 73 93] 857\n",
      "[75 64 47 35  4 23 73 28 83 32 91 78 58 73 73] 837\n",
      "1074\n"
     ]
    },
    {
     "data": {
      "text/plain": [
       "True"
      ]
     },
     "execution_count": 14,
     "metadata": {},
     "output_type": "execute_result"
    }
   ],
   "source": [
    "res = longest_slide_down(pyra)\n",
    "print(res)\n",
    "res == 1074"
   ]
  },
  {
   "cell_type": "raw",
   "id": "bb416073-b2da-4c5d-a688-90241c0bff59",
   "metadata": {},
   "source": [
    "[75 64 82 87 82 75 73 28 83 32 91 78 58 73 93] 1074"
   ]
  }
 ],
 "metadata": {
  "kernelspec": {
   "display_name": "Python 3 (ipykernel)",
   "language": "python",
   "name": "python3"
  },
  "language_info": {
   "codemirror_mode": {
    "name": "ipython",
    "version": 3
   },
   "file_extension": ".py",
   "mimetype": "text/x-python",
   "name": "python",
   "nbconvert_exporter": "python",
   "pygments_lexer": "ipython3",
   "version": "3.10.4"
  }
 },
 "nbformat": 4,
 "nbformat_minor": 5
}
